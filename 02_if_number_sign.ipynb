{
  "nbformat": 4,
  "nbformat_minor": 0,
  "metadata": {
    "colab": {
      "provenance": [],
      "authorship_tag": "ABX9TyMa6wRrrKqreEljlhTvKkKf",
      "include_colab_link": true
    },
    "kernelspec": {
      "name": "python3",
      "display_name": "Python 3"
    },
    "language_info": {
      "name": "python"
    }
  },
  "cells": [
    {
      "cell_type": "markdown",
      "metadata": {
        "id": "view-in-github",
        "colab_type": "text"
      },
      "source": [
        "<a href=\"https://colab.research.google.com/github/shin-python76/python_basics_practice/blob/main/02_if_number_sign.ipynb\" target=\"_parent\"><img src=\"https://colab.research.google.com/assets/colab-badge.svg\" alt=\"Open In Colab\"/></a>"
      ]
    },
    {
      "cell_type": "code",
      "execution_count": 1,
      "metadata": {
        "id": "mA3MVqFHGmoR"
      },
      "outputs": [],
      "source": [
        "#課題　入力した数字が\n",
        "\n",
        "#0より大きければ「正の数です」\n",
        "\n",
        "#0より小さければ「負の数です」\n",
        "\n",
        "#0なら「0です」\n",
        "#と表示するプログラムを作ってください。"
      ]
    },
    {
      "cell_type": "code",
      "source": [
        "num = input('数字を入力してください')\n",
        "num = int(num)\n",
        "\n",
        "if num > 0:\n",
        "  print('正の数です')\n",
        "elif num < 0:\n",
        "  print('負の数です')\n",
        "else:\n",
        "  print('0です')"
      ],
      "metadata": {
        "colab": {
          "base_uri": "https://localhost:8080/"
        },
        "id": "MRRduUirIEwz",
        "outputId": "deb6f21d-e561-406c-e941-206f5085710f"
      },
      "execution_count": 7,
      "outputs": [
        {
          "output_type": "stream",
          "name": "stdout",
          "text": [
            "数字を入力してください-2\n",
            "負の数です\n"
          ]
        }
      ]
    },
    {
      "cell_type": "code",
      "source": [],
      "metadata": {
        "id": "s7JSuv5tJQS1"
      },
      "execution_count": null,
      "outputs": []
    }
  ]
}