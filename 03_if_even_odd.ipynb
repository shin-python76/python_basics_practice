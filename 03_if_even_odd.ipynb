{
  "nbformat": 4,
  "nbformat_minor": 0,
  "metadata": {
    "colab": {
      "provenance": [],
      "authorship_tag": "ABX9TyOo44Ly3MKsiABgWkB24M9/",
      "include_colab_link": true
    },
    "kernelspec": {
      "name": "python3",
      "display_name": "Python 3"
    },
    "language_info": {
      "name": "python"
    }
  },
  "cells": [
    {
      "cell_type": "markdown",
      "metadata": {
        "id": "view-in-github",
        "colab_type": "text"
      },
      "source": [
        "<a href=\"https://colab.research.google.com/github/shin-python76/python_basics_practice/blob/main/03_if_even_odd.ipynb\" target=\"_parent\"><img src=\"https://colab.research.google.com/assets/colab-badge.svg\" alt=\"Open In Colab\"/></a>"
      ]
    },
    {
      "cell_type": "code",
      "execution_count": 1,
      "metadata": {
        "id": "TprrMzHYM8kD"
      },
      "outputs": [],
      "source": [
        "#課題　偶数・奇数の判定\n",
        "\n",
        "#入力した数字が\n",
        "\n",
        "#偶数なら「偶数です」\n",
        "\n",
        "#奇数なら「奇数です」\n",
        "\n",
        "#と表示するプログラムを作ってください。"
      ]
    },
    {
      "cell_type": "code",
      "source": [
        "num = input('数字を入力してください')\n",
        "num = int(num)\n",
        "\n",
        "if num % 2 == 0:\n",
        "  print('偶数です')\n",
        "else:\n",
        "  print('奇数です')"
      ],
      "metadata": {
        "colab": {
          "base_uri": "https://localhost:8080/"
        },
        "id": "p4jQdWMoNMe9",
        "outputId": "ebf3ee37-7197-4235-abb0-06cfd46ef252"
      },
      "execution_count": 3,
      "outputs": [
        {
          "output_type": "stream",
          "name": "stdout",
          "text": [
            "数字を入力してください7\n",
            "奇数です\n"
          ]
        }
      ]
    },
    {
      "cell_type": "code",
      "source": [],
      "metadata": {
        "id": "jNKyHcivODkw"
      },
      "execution_count": null,
      "outputs": []
    }
  ]
}